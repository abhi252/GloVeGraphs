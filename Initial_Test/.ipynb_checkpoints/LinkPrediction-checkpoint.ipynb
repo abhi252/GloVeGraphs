{
 "cells": [
  {
   "cell_type": "code",
   "execution_count": null,
   "metadata": {
    "collapsed": true
   },
   "outputs": [],
   "source": [
    "import numpy as np\n",
    "import networkx as nx\n",
    "import gensim\n",
    "from sklearn.cluster import KMeans\n",
    "import matplotlib.pyplot as plt\n",
    "import seaborn as sns\n",
    "from sklearn.metrics import silhouette_score\n",
    "from scipy.spatial.distance import cdist, pdist\n",
    "import pickle\n",
    "from collections import defaultdict\n",
    "import random\n",
    "import pickle\n",
    "import os\n",
    "%matplotlib inline"
   ]
  },
  {
   "cell_type": "code",
   "execution_count": 2,
   "metadata": {},
   "outputs": [],
   "source": [
    "# Import training set\n",
    "\n",
    "training_set = pickle.load(open(\"training_data.txt\", \"rb\"))\n",
    "testing_set = pickle.load(open(\"testing_data.txt\",\"rb\"))\n"
   ]
  },
  {
   "cell_type": "code",
   "execution_count": 3,
   "metadata": {},
   "outputs": [],
   "source": [
    "# Create graph from training set\n",
    "G = nx.DiGraph()\n",
    "for edge in training_set.keys():\n",
    "    nodes = edge.split('-')\n",
    "    G.add_edge(nodes[0],nodes[1])\n",
    "\n"
   ]
  },
  {
   "cell_type": "code",
   "execution_count": 4,
   "metadata": {},
   "outputs": [],
   "source": [
    "# Add only the nodes from test set to graph if not already present in generated graph\n",
    "node_list_conn = G.nodes()\n",
    "for edge in testing_set.keys():\n",
    "    nodes = edge.split('-')\n",
    "    for node in nodes:\n",
    "        if node in node_list_conn:\n",
    "            continue\n",
    "        else:\n",
    "            G.add_node(node)"
   ]
  },
  {
   "cell_type": "code",
   "execution_count": 5,
   "metadata": {},
   "outputs": [],
   "source": [
    "# Build new edgelist node2vec can utilize for generating embeddings\n",
    "nx.write_edgelist(G,'graph/train_n2v.txt')"
   ]
  },
  {
   "cell_type": "code",
   "execution_count": null,
   "metadata": {},
   "outputs": [],
   "source": [
    "CmdStr = \"python main.py --p 1 --q 0.5 --iter 200 --input graph/train_n2v.txt \\\n",
    "    --output emb/emb_train_n2v.emb --dimensions 64\"\n",
    "os.system(CmdStr)"
   ]
  },
  {
   "cell_type": "code",
   "execution_count": 6,
   "metadata": {},
   "outputs": [],
   "source": [
    "node_list_conn_int = sorted(map(lambda x : int(x),node_list_conn))\n",
    "node_list_conn = map(lambda x : str(x),node_list_conn_int)"
   ]
  },
  {
   "cell_type": "code",
   "execution_count": 7,
   "metadata": {},
   "outputs": [
    {
     "data": {
      "text/plain": [
       "5242"
      ]
     },
     "execution_count": 7,
     "metadata": {},
     "output_type": "execute_result"
    }
   ],
   "source": [
    "# Sanity check to make sure same number of nodes reappears in new graph generated\n",
    "G.number_of_nodes()"
   ]
  },
  {
   "cell_type": "code",
   "execution_count": null,
   "metadata": {},
   "outputs": [],
   "source": []
  },
  {
   "cell_type": "code",
   "execution_count": 8,
   "metadata": {},
   "outputs": [
    {
     "data": {
      "text/plain": [
       "True"
      ]
     },
     "execution_count": 8,
     "metadata": {},
     "output_type": "execute_result"
    }
   ],
   "source": [
    "G.has_edge('88','22504')"
   ]
  },
  {
   "cell_type": "code",
   "execution_count": null,
   "metadata": {},
   "outputs": [],
   "source": []
  },
  {
   "cell_type": "code",
   "execution_count": 10,
   "metadata": {
    "collapsed": true
   },
   "outputs": [],
   "source": [
    "## Read embeddings file from and generate features\n",
    "\n",
    "model = gensim.models.KeyedVectors.load_word2vec_format('emb/iter_20_train_n2v.emb')"
   ]
  },
  {
   "cell_type": "code",
   "execution_count": 11,
   "metadata": {
    "collapsed": true
   },
   "outputs": [],
   "source": [
    "embeddings = {}\n",
    "\n",
    "for node in node_list_conn:\n",
    "    embeddings[node] = model.word_vec(node)"
   ]
  },
  {
   "cell_type": "code",
   "execution_count": 12,
   "metadata": {
    "collapsed": true
   },
   "outputs": [],
   "source": [
    "def combine_embedding(method,n_out,n_in):\n",
    "    if(method == 1):\n",
    "        #print \"Implementing Simple average\"\n",
    "        return (n_out+n_in)/2.0    \n",
    "    \n",
    "    elif(method == 2):\n",
    "        #print \"Implementing Hadamard\"\n",
    "        #print n_in,n_out\n",
    "        return np.multiply(n_in,n_out)\n",
    "    else:\n",
    "        print \"Invalid Method. Enter 1 or 2\"\n",
    "        return     "
   ]
  },
  {
   "cell_type": "code",
   "execution_count": 21,
   "metadata": {},
   "outputs": [],
   "source": [
    "# Try Hadamard first\n",
    "feature = []\n",
    "label = []\n",
    "for edge in training_set.keys():\n",
    "    nodes = edge.split('-')\n",
    "    feature.append(combine_embedding(2,embeddings[nodes[0]],embeddings[nodes[1]]))\n",
    "    label.append(training_set[edge])\n",
    "    "
   ]
  },
  {
   "cell_type": "code",
   "execution_count": 22,
   "metadata": {},
   "outputs": [
    {
     "data": {
      "text/plain": [
       "49555"
      ]
     },
     "execution_count": 22,
     "metadata": {},
     "output_type": "execute_result"
    }
   ],
   "source": [
    "len(feature)"
   ]
  },
  {
   "cell_type": "code",
   "execution_count": 23,
   "metadata": {},
   "outputs": [
    {
     "data": {
      "text/plain": [
       "49555"
      ]
     },
     "execution_count": 23,
     "metadata": {},
     "output_type": "execute_result"
    }
   ],
   "source": [
    "G.number_of_edges()"
   ]
  },
  {
   "cell_type": "code",
   "execution_count": 24,
   "metadata": {},
   "outputs": [
    {
     "name": "stdout",
     "output_type": "stream",
     "text": [
      "(49555, 64)\n",
      "(49555,)\n"
     ]
    }
   ],
   "source": [
    "feature_np = np.asarray(feature)\n",
    "print feature_np.shape\n",
    "label_np = np.asarray(label)\n",
    "print label_np.shape"
   ]
  },
  {
   "cell_type": "code",
   "execution_count": 25,
   "metadata": {
    "collapsed": true
   },
   "outputs": [],
   "source": [
    "x,residuals,rank,s = np.linalg.lstsq(feature_np,label_np)"
   ]
  },
  {
   "cell_type": "code",
   "execution_count": 26,
   "metadata": {},
   "outputs": [],
   "source": [
    "def evaluate_perf(data,w,labels):\n",
    "    label_pred = np.dot(data,w)\n",
    "    print label_pred.shape\n",
    "    diff = np.abs(np.subtract(label_pred,labels))\n",
    "    return np.sum(diff)*1.0/len(labels)"
   ]
  },
  {
   "cell_type": "code",
   "execution_count": 27,
   "metadata": {},
   "outputs": [
    {
     "data": {
      "text/plain": [
       "(64,)"
      ]
     },
     "execution_count": 27,
     "metadata": {},
     "output_type": "execute_result"
    }
   ],
   "source": [
    "x.shape"
   ]
  },
  {
   "cell_type": "code",
   "execution_count": 28,
   "metadata": {},
   "outputs": [
    {
     "name": "stdout",
     "output_type": "stream",
     "text": [
      "(49555,)\n"
     ]
    },
    {
     "data": {
      "text/plain": [
       "0.45228752401825623"
      ]
     },
     "execution_count": 28,
     "metadata": {},
     "output_type": "execute_result"
    }
   ],
   "source": [
    "error = evaluate_perf(feature_np,x,label_np)\n",
    "error"
   ]
  },
  {
   "cell_type": "code",
   "execution_count": 29,
   "metadata": {
    "collapsed": true
   },
   "outputs": [],
   "source": [
    "# Extract test set features\n",
    "\n"
   ]
  },
  {
   "cell_type": "code",
   "execution_count": 30,
   "metadata": {},
   "outputs": [
    {
     "data": {
      "text/plain": [
       "26082"
      ]
     },
     "execution_count": 30,
     "metadata": {},
     "output_type": "execute_result"
    }
   ],
   "source": [
    "np.count_nonzero(label_np)"
   ]
  },
  {
   "cell_type": "code",
   "execution_count": 31,
   "metadata": {},
   "outputs": [
    {
     "data": {
      "text/plain": [
       "49555"
      ]
     },
     "execution_count": 31,
     "metadata": {},
     "output_type": "execute_result"
    }
   ],
   "source": [
    "len(label_np)"
   ]
  },
  {
   "cell_type": "code",
   "execution_count": null,
   "metadata": {
    "collapsed": true
   },
   "outputs": [],
   "source": []
  }
 ],
 "metadata": {
  "kernelspec": {
   "display_name": "Python 2",
   "language": "python",
   "name": "python2"
  },
  "language_info": {
   "codemirror_mode": {
    "name": "ipython",
    "version": 2
   },
   "file_extension": ".py",
   "mimetype": "text/x-python",
   "name": "python",
   "nbconvert_exporter": "python",
   "pygments_lexer": "ipython2",
   "version": "2.7.13"
  }
 },
 "nbformat": 4,
 "nbformat_minor": 2
}
