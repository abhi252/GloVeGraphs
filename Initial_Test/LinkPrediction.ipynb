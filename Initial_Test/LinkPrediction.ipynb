{
 "cells": [
  {
   "cell_type": "code",
   "execution_count": 99,
   "metadata": {
    "collapsed": true
   },
   "outputs": [],
   "source": [
    "import numpy as np\n",
    "import networkx as nx\n",
    "import gensim\n",
    "from sklearn.cluster import KMeans\n",
    "import matplotlib.pyplot as plt\n",
    "import seaborn as sns\n",
    "from sklearn.metrics import silhouette_score\n",
    "from scipy.spatial.distance import cdist, pdist\n",
    "import pickle\n",
    "from collections import defaultdict\n",
    "import random\n",
    "import pickle\n",
    "import os\n",
    "%matplotlib inline"
   ]
  },
  {
   "cell_type": "code",
   "execution_count": 100,
   "metadata": {},
   "outputs": [],
   "source": [
    "# Import training set\n",
    "\n",
    "training_set = pickle.load(open(\"training_data.txt\", \"rb\"))\n",
    "testing_set = pickle.load(open(\"testing_data.txt\",\"rb\"))\n"
   ]
  },
  {
   "cell_type": "code",
   "execution_count": 101,
   "metadata": {},
   "outputs": [],
   "source": [
    "# Create graph from training set\n",
    "G = nx.Graph()\n",
    "for edge in training_set.keys():\n",
    "    nodes = edge.split('-')\n",
    "    if(training_set[edge]==1):\n",
    "        if(G.has_edge(nodes[0],nodes[1])):\n",
    "            G[nodes[0]][nodes[1]]['weight'] += 1\n",
    "        else:\n",
    "            G.add_edge(nodes[0],nodes[1],weight = 1)\n",
    "    else:\n",
    "        G.add_node(nodes[0])\n",
    "        G.add_node(nodes[1])\n",
    " \n"
   ]
  },
  {
   "cell_type": "code",
   "execution_count": 102,
   "metadata": {},
   "outputs": [
    {
     "data": {
      "text/plain": [
       "5242"
      ]
     },
     "execution_count": 102,
     "metadata": {},
     "output_type": "execute_result"
    }
   ],
   "source": [
    "G.number_of_nodes()"
   ]
  },
  {
   "cell_type": "code",
   "execution_count": 103,
   "metadata": {
    "collapsed": true
   },
   "outputs": [],
   "source": [
    "for node in G.nodes():\n",
    "    if G.degree(node) == 0:\n",
    "        G.add_edge(node,node,weight = 1)"
   ]
  },
  {
   "cell_type": "code",
   "execution_count": 104,
   "metadata": {},
   "outputs": [],
   "source": [
    "# Add only the nodes from test set to graph if not already present in generated graph\n",
    "node_list_conn = G.nodes()\n",
    "for edge in testing_set.keys():\n",
    "    nodes = edge.split('-')\n",
    "    for node in nodes:\n",
    "        if node in node_list_conn:\n",
    "            continue\n",
    "        else:\n",
    "            G.add_node(node)"
   ]
  },
  {
   "cell_type": "code",
   "execution_count": 105,
   "metadata": {},
   "outputs": [],
   "source": [
    "# Build new edgelist node2vec can utilize for generating embeddings\n",
    "nx.write_edgelist(G,'graph/train_n2v.txt')"
   ]
  },
  {
   "cell_type": "code",
   "execution_count": null,
   "metadata": {},
   "outputs": [],
   "source": [
    "CmdStr = \"python main.py --p 1 --q 0.5 --iter 200 --input graph/train_n2v.txt \\\n",
    "    --output emb/emb_train_n2v.emb --dimensions 64\"\n",
    "os.system(CmdStr)"
   ]
  },
  {
   "cell_type": "code",
   "execution_count": 107,
   "metadata": {},
   "outputs": [],
   "source": [
    "node_list_conn_int = sorted(map(lambda x : int(x),node_list_conn))\n",
    "node_list_conn = map(lambda x : str(x),node_list_conn_int)"
   ]
  },
  {
   "cell_type": "code",
   "execution_count": 108,
   "metadata": {},
   "outputs": [
    {
     "data": {
      "text/plain": [
       "5242"
      ]
     },
     "execution_count": 108,
     "metadata": {},
     "output_type": "execute_result"
    }
   ],
   "source": [
    "# Sanity check to make sure same number of nodes reappears in new graph generated\n",
    "G.number_of_nodes()"
   ]
  },
  {
   "cell_type": "code",
   "execution_count": 123,
   "metadata": {
    "collapsed": true
   },
   "outputs": [],
   "source": [
    "## Read embeddings file from and generate features\n",
    "\n",
    "model = gensim.models.KeyedVectors.load_word2vec_format('emb/iter_20_dim_128_train_n2v.emb')"
   ]
  },
  {
   "cell_type": "code",
   "execution_count": 124,
   "metadata": {},
   "outputs": [],
   "source": [
    "embeddings = {}\n",
    "err_count = 0\n",
    "missing_node = []\n",
    "for node in node_list_conn:\n",
    "    try:\n",
    "        embeddings[node] = model.word_vec(node)\n",
    "    except:\n",
    "        err_count += 1\n",
    "        missing_node.append(node)\n",
    "        continue"
   ]
  },
  {
   "cell_type": "code",
   "execution_count": 125,
   "metadata": {},
   "outputs": [
    {
     "data": {
      "text/plain": [
       "[]"
      ]
     },
     "execution_count": 125,
     "metadata": {},
     "output_type": "execute_result"
    }
   ],
   "source": [
    "missing_node"
   ]
  },
  {
   "cell_type": "code",
   "execution_count": 126,
   "metadata": {
    "collapsed": true
   },
   "outputs": [],
   "source": [
    "def combine_embedding(method,n_out,n_in):\n",
    "    if(method == 1):\n",
    "        #print \"Implementing Simple average\"\n",
    "        return (n_out+n_in)/2.0    \n",
    "    \n",
    "    elif(method == 2):\n",
    "        #print \"Implementing Hadamard\"\n",
    "        #print n_in,n_out\n",
    "        return np.multiply(n_in,n_out)\n",
    "    else:\n",
    "        print \"Invalid Method. Enter 1 or 2\"\n",
    "        return     "
   ]
  },
  {
   "cell_type": "code",
   "execution_count": 127,
   "metadata": {},
   "outputs": [],
   "source": [
    "# Try Hadamard first\n",
    "feature = []\n",
    "label = []\n",
    "for edge in training_set.keys():\n",
    "    nodes = edge.split('-')\n",
    "    feature.append(combine_embedding(2,embeddings[nodes[0]],embeddings[nodes[1]]))\n",
    "    label.append(training_set[edge])"
   ]
  },
  {
   "cell_type": "code",
   "execution_count": 128,
   "metadata": {},
   "outputs": [
    {
     "data": {
      "text/plain": [
       "49555"
      ]
     },
     "execution_count": 128,
     "metadata": {},
     "output_type": "execute_result"
    }
   ],
   "source": [
    "len(feature)"
   ]
  },
  {
   "cell_type": "code",
   "execution_count": 129,
   "metadata": {},
   "outputs": [
    {
     "data": {
      "text/plain": [
       "14359"
      ]
     },
     "execution_count": 129,
     "metadata": {},
     "output_type": "execute_result"
    }
   ],
   "source": [
    "G.number_of_edges()"
   ]
  },
  {
   "cell_type": "code",
   "execution_count": 130,
   "metadata": {},
   "outputs": [
    {
     "name": "stdout",
     "output_type": "stream",
     "text": [
      "(49555, 128)\n",
      "(49555,)\n"
     ]
    }
   ],
   "source": [
    "feature_np = np.asarray(feature)\n",
    "print feature_np.shape\n",
    "label_np = np.asarray(label)\n",
    "print label_np.shape"
   ]
  },
  {
   "cell_type": "code",
   "execution_count": 131,
   "metadata": {
    "collapsed": true
   },
   "outputs": [],
   "source": [
    "#x,residuals,rank,s = np.linalg.lstsq(feature_np,label_np)\n",
    "from sklearn import svm\n",
    "clf = svm.SVC()"
   ]
  },
  {
   "cell_type": "code",
   "execution_count": 132,
   "metadata": {},
   "outputs": [
    {
     "data": {
      "text/plain": [
       "SVC(C=1.0, cache_size=200, class_weight=None, coef0=0.0,\n",
       "  decision_function_shape=None, degree=3, gamma='auto', kernel='rbf',\n",
       "  max_iter=-1, probability=False, random_state=None, shrinking=True,\n",
       "  tol=0.001, verbose=False)"
      ]
     },
     "execution_count": 132,
     "metadata": {},
     "output_type": "execute_result"
    }
   ],
   "source": [
    "clf.fit(feature_np,label_np)"
   ]
  },
  {
   "cell_type": "code",
   "execution_count": 133,
   "metadata": {},
   "outputs": [],
   "source": [
    "def evaluate_perf(data,clf,labels):\n",
    "    label_pred = clf.predict(data)\n",
    "    print label_pred.shape\n",
    "    diff = np.abs(np.subtract(label_pred,labels))\n",
    "    return np.sum(diff)*1.0/len(labels)"
   ]
  },
  {
   "cell_type": "code",
   "execution_count": 134,
   "metadata": {},
   "outputs": [
    {
     "data": {
      "text/plain": [
       "(64,)"
      ]
     },
     "execution_count": 134,
     "metadata": {},
     "output_type": "execute_result"
    }
   ],
   "source": [
    "x.shape"
   ]
  },
  {
   "cell_type": "code",
   "execution_count": 135,
   "metadata": {},
   "outputs": [
    {
     "name": "stdout",
     "output_type": "stream",
     "text": [
      "(49555,)\n"
     ]
    },
    {
     "data": {
      "text/plain": [
       "0.020623549591363134"
      ]
     },
     "execution_count": 135,
     "metadata": {},
     "output_type": "execute_result"
    }
   ],
   "source": [
    "error = evaluate_perf(feature_np,clf,label_np)\n",
    "error"
   ]
  },
  {
   "cell_type": "code",
   "execution_count": 137,
   "metadata": {},
   "outputs": [],
   "source": [
    "#Get test data and evaluate performance\n",
    "\n",
    "feature_test = []\n",
    "label_test = []\n",
    "for edge in testing_set.keys():\n",
    "    nodes = edge.split('-')\n",
    "    feature_test.append(combine_embedding(2,embeddings[nodes[0]],embeddings[nodes[1]]))\n",
    "    label_test.append(testing_set[edge])    \n",
    "\n"
   ]
  },
  {
   "cell_type": "code",
   "execution_count": 139,
   "metadata": {},
   "outputs": [
    {
     "name": "stdout",
     "output_type": "stream",
     "text": [
      "(5507,)\n"
     ]
    },
    {
     "data": {
      "text/plain": [
       "0.033956782277101867"
      ]
     },
     "execution_count": 139,
     "metadata": {},
     "output_type": "execute_result"
    }
   ],
   "source": [
    "error = evaluate_perf(feature_test,clf,label_test)\n",
    "error"
   ]
  },
  {
   "cell_type": "code",
   "execution_count": null,
   "metadata": {},
   "outputs": [],
   "source": []
  },
  {
   "cell_type": "code",
   "execution_count": null,
   "metadata": {
    "collapsed": true
   },
   "outputs": [],
   "source": []
  }
 ],
 "metadata": {
  "kernelspec": {
   "display_name": "Python 2",
   "language": "python",
   "name": "python2"
  },
  "language_info": {
   "codemirror_mode": {
    "name": "ipython",
    "version": 2
   },
   "file_extension": ".py",
   "mimetype": "text/x-python",
   "name": "python",
   "nbconvert_exporter": "python",
   "pygments_lexer": "ipython2",
   "version": "2.7.13"
  }
 },
 "nbformat": 4,
 "nbformat_minor": 2
}
