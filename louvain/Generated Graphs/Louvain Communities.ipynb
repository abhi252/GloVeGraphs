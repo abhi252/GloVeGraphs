{
 "cells": [
  {
   "cell_type": "code",
   "execution_count": 23,
   "metadata": {
    "collapsed": true
   },
   "outputs": [],
   "source": [
    "import os\n",
    "import community\n",
    "import networkx as nx\n",
    "import pickle\n",
    "from sklearn.metrics import normalized_mutual_info_score as NMI"
   ]
  },
  {
   "cell_type": "code",
   "execution_count": 18,
   "metadata": {
    "collapsed": true
   },
   "outputs": [],
   "source": [
    "path = \"../../Initial_Test/Generated Graphs/\"\n",
    "directories = os.listdir(path)\n",
    "# for x in directories :\n",
    "#     exe = \"mkdir \"+x\n",
    "#     os.system(exe)"
   ]
  },
  {
   "cell_type": "code",
   "execution_count": 22,
   "metadata": {},
   "outputs": [
    {
     "name": "stdout",
     "output_type": "stream",
     "text": [
      "mu_0.05_N_1000\n",
      "mu_0.0_N_1000\n",
      "mu_0.15_N_1000\n",
      "mu_0.1_N_1000\n",
      "mu_0.25_N_1000\n",
      "mu_0.2_N_1000\n",
      "mu_0.35_N_1000\n",
      "mu_0.3_N_1000\n",
      "mu_0.45_N_1000\n",
      "mu_0.4_N_1000\n",
      "mu_0.55_N_1000\n",
      "mu_0.5_N_1000\n",
      "mu_0.65_N_1000\n",
      "mu_0.6_N_1000\n",
      "mu_0.75_N_1000\n",
      "mu_0.7_N_1000\n",
      "mu_0.85_N_1000\n",
      "mu_0.8_N_1000\n",
      "mu_0.95_N_1000\n",
      "mu_0.9_N_1000\n"
     ]
    }
   ],
   "source": [
    "for x in directories :\n",
    "    a = os.listdir(path+x)\n",
    "    print x\n",
    "    for m in a :\n",
    "        if \"network\" in m: \n",
    "            readfile = os.path.abspath(path+x+\"\\\\\"+m)\n",
    "            writefile = os.path.abspath(x+\"\\\\\"+m)\n",
    "            writefile = writefile.replace(\"network\",\"community\")\n",
    "            G = nx.read_edgelist(readfile)\n",
    "            communities = community.best_partition(G)\n",
    "            with open(writefile,'wb') as handle :\n",
    "                for nodes in range(1,1001) :\n",
    "                    temp = str(nodes) + \"\\t\" + str(communities[str(nodes)])\n",
    "                    handle.write(temp+\"\\n\")"
   ]
  },
  {
   "cell_type": "code",
   "execution_count": 5,
   "metadata": {},
   "outputs": [],
   "source": [
    "urange = [0.05*i for i in range(20)]"
   ]
  },
  {
   "cell_type": "code",
   "execution_count": 25,
   "metadata": {},
   "outputs": [],
   "source": [
    "ugraph = []\n",
    "for x in urange:\n",
    "    values = []\n",
    "    truth_comm = \"../../Initial_Test/Generated Graphs/\"\n",
    "    directory = \"mu_\"+str(x)+\"_N_1000/\"\n",
    "    for y in range(1,51):\n",
    "        true_path = truth_comm + directory + \"community_run_\"+str(y)+\".dat\"\n",
    "        with open(true_path) as handle :\n",
    "            temp = handle.readlines()\n",
    "        tc = [a.split()[1] for a in temp]\n",
    "        louvain_path = directory + \"community_run_\"+str(y)+\".dat\"\n",
    "        with open(louvain_path) as handle :\n",
    "            temp = handle.readlines()\n",
    "        lc = [a.split()[1] for a in temp]\n",
    "        val = NMI(tc,lc)\n",
    "        values.append(val)\n",
    "    ugraph.append(sum(values)/50.0)\n",
    "            "
   ]
  },
  {
   "cell_type": "code",
   "execution_count": 27,
   "metadata": {
    "collapsed": true
   },
   "outputs": [],
   "source": [
    "with open(\"louvain_scores.pickle\",'wb') as handle:\n",
    "    pickle.dump(ugraph,handle)"
   ]
  },
  {
   "cell_type": "code",
   "execution_count": null,
   "metadata": {
    "collapsed": true
   },
   "outputs": [],
   "source": []
  }
 ],
 "metadata": {
  "kernelspec": {
   "display_name": "Python 2",
   "language": "python",
   "name": "python2"
  },
  "language_info": {
   "codemirror_mode": {
    "name": "ipython",
    "version": 2
   },
   "file_extension": ".py",
   "mimetype": "text/x-python",
   "name": "python",
   "nbconvert_exporter": "python",
   "pygments_lexer": "ipython2",
   "version": "2.7.13"
  }
 },
 "nbformat": 4,
 "nbformat_minor": 2
}
