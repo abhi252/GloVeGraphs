{
 "cells": [
  {
   "cell_type": "code",
   "execution_count": 1,
   "metadata": {
    "collapsed": true
   },
   "outputs": [],
   "source": [
    "import os\n",
    "import networkx as nx\n",
    "import pickle\n",
    "from sklearn.metrics import normalized_mutual_info_score as NMI\n",
    "from sklearn.cluster import SpectralClustering\n",
    "import numpy as np"
   ]
  },
  {
   "cell_type": "code",
   "execution_count": 2,
   "metadata": {
    "collapsed": true
   },
   "outputs": [],
   "source": [
    "path = \"../../LFR_low_degree/\"\n",
    "directories = os.listdir(path)\n",
    "for x in directories :\n",
    "    exe = \"mkdir \"+x\n",
    "    os.system(exe)"
   ]
  },
  {
   "cell_type": "code",
   "execution_count": 3,
   "metadata": {},
   "outputs": [
    {
     "name": "stdout",
     "output_type": "stream",
     "text": [
      "mu_0.05_N_1000\n"
     ]
    },
    {
     "name": "stderr",
     "output_type": "stream",
     "text": [
      "C:\\Users\\abhna\\Anaconda2\\lib\\site-packages\\sklearn\\manifold\\spectral_embedding_.py:229: UserWarning: Graph is not fully connected, spectral embedding may not work as expected.\n",
      "  warnings.warn(\"Graph is not fully connected, spectral embedding\"\n"
     ]
    },
    {
     "name": "stdout",
     "output_type": "stream",
     "text": [
      "mu_0.0_N_1000\n",
      "mu_0.15_N_1000\n",
      "mu_0.1_N_1000\n",
      "mu_0.25_N_1000\n",
      "mu_0.2_N_1000\n",
      "mu_0.35_N_1000\n",
      "mu_0.3_N_1000\n",
      "mu_0.45_N_1000\n",
      "mu_0.4_N_1000\n",
      "mu_0.55_N_1000\n",
      "mu_0.5_N_1000\n",
      "mu_0.65_N_1000\n",
      "mu_0.6_N_1000\n",
      "mu_0.75_N_1000\n",
      "mu_0.7_N_1000\n",
      "mu_0.85_N_1000\n",
      "mu_0.8_N_1000\n",
      "mu_0.95_N_1000\n",
      "mu_0.9_N_1000\n"
     ]
    }
   ],
   "source": [
    "for x in directories :\n",
    "    a = os.listdir(path+x)\n",
    "    print x\n",
    "    for m in a :\n",
    "        if \"network\" in m:\n",
    "            communities = {}\n",
    "            readfile = os.path.abspath(path+x+\"\\\\\"+m)\n",
    "            writefile = os.path.abspath(x+\"\\\\\"+m)\n",
    "            writefile = writefile.replace(\"network\",\"community\")\n",
    "            G = nx.read_edgelist(readfile)\n",
    "            adj = nx.adjacency_matrix(G)\n",
    "            commfile = m.replace(\"network\",\"community\")\n",
    "            rf2 = os.path.abspath(path+x+\"\\\\\"+commfile)\n",
    "            with open(rf2) as handle :\n",
    "                temp = handle.readlines()\n",
    "            number_comm = len(set([a.split()[1] for a in temp])) #Finding the true number of communities\n",
    "            clus = SpectralClustering(n_clusters=number_comm,affinity=\"precomputed\")\n",
    "            out = clus.fit_predict(adj)\n",
    "            graph_nodes = G.nodes()\n",
    "            for d in range(len(graph_nodes)) :\n",
    "                communities[int(graph_nodes[d])] = out[d]\n",
    "            with open(writefile,'wb') as handle :\n",
    "                for nodes in range(1,1001) :\n",
    "                    temp = str(nodes) + \"\\t\" + str(communities[nodes])\n",
    "                    handle.write(temp+\"\\n\")"
   ]
  },
  {
   "cell_type": "code",
   "execution_count": 4,
   "metadata": {
    "collapsed": true
   },
   "outputs": [],
   "source": [
    "urange = [0.05*i for i in range(19)]"
   ]
  },
  {
   "cell_type": "code",
   "execution_count": 5,
   "metadata": {
    "collapsed": true
   },
   "outputs": [],
   "source": [
    "ugraph = []\n",
    "for x in urange:\n",
    "    values = []\n",
    "    truth_comm = \"../../LFR_low_degree/\"\n",
    "    directory = \"mu_\"+str(x)+\"_N_1000/\"\n",
    "    for y in range(1,11):\n",
    "        true_path = truth_comm + directory + \"community_run_\"+str(y)+\".dat\"\n",
    "        with open(true_path) as handle :\n",
    "            temp = handle.readlines()\n",
    "        tc = [a.split()[1] for a in temp]\n",
    "        spectral_path = directory + \"community_run_\"+str(y)+\".dat\"\n",
    "        with open(spectral_path) as handle :\n",
    "            temp = handle.readlines()\n",
    "        lc = [a.split()[1] for a in temp]\n",
    "        val = NMI(tc,lc)\n",
    "        values.append(val)\n",
    "    ugraph.append(sum(values)/10.0)\n",
    "            "
   ]
  },
  {
   "cell_type": "code",
   "execution_count": 6,
   "metadata": {
    "collapsed": true
   },
   "outputs": [],
   "source": [
    "with open(\"spectral_scores_lfr.pickle\",'wb') as handle:\n",
    "    pickle.dump(ugraph,handle)"
   ]
  },
  {
   "cell_type": "code",
   "execution_count": 7,
   "metadata": {},
   "outputs": [
    {
     "name": "stdout",
     "output_type": "stream",
     "text": [
      "[0.90420020800260681, 0.99565413551230919, 0.99550509694056299, 0.99492941143701208, 0.98269747074038349, 0.9823916382571436, 0.98792254531458834, 0.98769651463946828, 0.97348295814255814, 0.97292845375979731, 0.97853021817273811, 0.92745656384336694, 0.86446139928087828, 0.72546203456976455, 0.61427446362548976, 0.54800600821061818, 0.50667845453281901, 0.48517380528498977, 0.47128966363188746]\n"
     ]
    }
   ],
   "source": [
    "print ugraph"
   ]
  },
  {
   "cell_type": "code",
   "execution_count": null,
   "metadata": {
    "collapsed": true
   },
   "outputs": [],
   "source": []
  }
 ],
 "metadata": {
  "kernelspec": {
   "display_name": "Python 2",
   "language": "python",
   "name": "python2"
  },
  "language_info": {
   "codemirror_mode": {
    "name": "ipython",
    "version": 2
   },
   "file_extension": ".py",
   "mimetype": "text/x-python",
   "name": "python",
   "nbconvert_exporter": "python",
   "pygments_lexer": "ipython2",
   "version": "2.7.13"
  }
 },
 "nbformat": 4,
 "nbformat_minor": 2
}
