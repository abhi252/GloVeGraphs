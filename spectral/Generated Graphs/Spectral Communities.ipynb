{
 "cells": [
  {
   "cell_type": "code",
   "execution_count": 26,
   "metadata": {
    "collapsed": true
   },
   "outputs": [],
   "source": [
    "import os\n",
    "import networkx as nx\n",
    "import pickle\n",
    "from sklearn.metrics import normalized_mutual_info_score as NMI\n",
    "from sklearn.cluster import SpectralClustering\n",
    "import numpy as np"
   ]
  },
  {
   "cell_type": "code",
   "execution_count": 3,
   "metadata": {},
   "outputs": [],
   "source": [
    "path = \"../../Initial_Test/Generated Graphs/\"\n",
    "directories = os.listdir(path)\n",
    "# for x in directories :\n",
    "#     exe = \"mkdir \"+x\n",
    "#     os.system(exe)"
   ]
  },
  {
   "cell_type": "code",
   "execution_count": 53,
   "metadata": {},
   "outputs": [
    {
     "name": "stdout",
     "output_type": "stream",
     "text": [
      "mu_0.05_N_1000\n"
     ]
    }
   ],
   "source": [
    "for x in directories :\n",
    "    a = os.listdir(path+x)\n",
    "    print x\n",
    "    for m in a :\n",
    "        if \"network\" in m:\n",
    "            communities = {}\n",
    "            readfile = os.path.abspath(path+x+\"\\\\\"+m)\n",
    "            writefile = os.path.abspath(x+\"\\\\\"+m)\n",
    "            writefile = writefile.replace(\"network\",\"community\")\n",
    "            G = nx.read_edgelist(readfile)\n",
    "            adj = nx.adjacency_matrix(G)\n",
    "            commfile = m.replace(\"network\",\"community\")\n",
    "            rf2 = os.path.abspath(path+x+\"\\\\\"+commfile)\n",
    "            with open(rf2) as handle :\n",
    "                temp = handle.readlines()\n",
    "            number_comm = len(set([a.split()[1] for a in temp])) #Finding the true number of communities\n",
    "            clus = SpectralClustering(n_clusters=number_comm)\n",
    "            out = clus.fit_predict(adj)\n",
    "            graph_nodes = G.nodes()\n",
    "            for d in range(len(graph_nodes)) :\n",
    "                communities[int(graph_nodes[d])] = out[d]\n",
    "            with open(writefile,'wb') as handle :\n",
    "                for nodes in range(1,1001) :\n",
    "                    temp = str(nodes) + \"\\t\" + str(communities[nodes])\n",
    "                    handle.write(temp+\"\\n\")"
   ]
  },
  {
   "cell_type": "code",
   "execution_count": 19,
   "metadata": {
    "collapsed": true
   },
   "outputs": [],
   "source": [
    "urange = [0.05*i for i in range(20)]"
   ]
  },
  {
   "cell_type": "code",
   "execution_count": 54,
   "metadata": {},
   "outputs": [],
   "source": [
    "ugraph = []\n",
    "for x in urange:\n",
    "    values = []\n",
    "    truth_comm = \"../../Initial_Test/Generated Graphs/\"\n",
    "    directory = \"mu_\"+str(x)+\"_N_1000/\"\n",
    "    for y in range(1,51):\n",
    "        true_path = truth_comm + directory + \"community_run_\"+str(y)+\".dat\"\n",
    "        with open(true_path) as handle :\n",
    "            temp = handle.readlines()\n",
    "        tc = [a.split()[1] for a in temp]\n",
    "        spectral_path = directory + \"community_run_\"+str(y)+\".dat\"\n",
    "        with open(louvain_path) as handle :\n",
    "            temp = handle.readlines()\n",
    "        lc = [a.split()[1] for a in temp]\n",
    "        val = NMI(tc,lc)\n",
    "        values.append(val)\n",
    "    ugraph.append(sum(values)/50.0)\n",
    "            "
   ]
  },
  {
   "cell_type": "code",
   "execution_count": 55,
   "metadata": {
    "collapsed": true
   },
   "outputs": [],
   "source": [
    "with open(\"spectral_scores.pickle\",'wb') as handle:\n",
    "    pickle.dump(ugraph,handle)"
   ]
  },
  {
   "cell_type": "code",
   "execution_count": 56,
   "metadata": {},
   "outputs": [
    {
     "name": "stdout",
     "output_type": "stream",
     "text": [
      "[0.20202325739106627]\n"
     ]
    }
   ],
   "source": [
    "print ugraph"
   ]
  },
  {
   "cell_type": "code",
   "execution_count": null,
   "metadata": {
    "collapsed": true
   },
   "outputs": [],
   "source": []
  }
 ],
 "metadata": {
  "kernelspec": {
   "display_name": "Python 2",
   "language": "python",
   "name": "python2"
  },
  "language_info": {
   "codemirror_mode": {
    "name": "ipython",
    "version": 2
   },
   "file_extension": ".py",
   "mimetype": "text/x-python",
   "name": "python",
   "nbconvert_exporter": "python",
   "pygments_lexer": "ipython2",
   "version": "2.7.13"
  }
 },
 "nbformat": 4,
 "nbformat_minor": 2
}
