{
 "cells": [
  {
   "cell_type": "code",
   "execution_count": 1,
   "metadata": {
    "collapsed": true
   },
   "outputs": [],
   "source": [
    "import os\n",
    "import networkx as nx\n",
    "import pickle\n",
    "from sklearn.metrics import normalized_mutual_info_score as NMI\n",
    "from sklearn.cluster import SpectralClustering\n",
    "import numpy as np"
   ]
  },
  {
   "cell_type": "code",
   "execution_count": 2,
   "metadata": {
    "collapsed": true
   },
   "outputs": [],
   "source": [
    "path = \"../../Initial_Test/Generated Graphs/\"\n",
    "directories = os.listdir(path)\n",
    "for x in directories :\n",
    "    exe = \"mkdir \"+x\n",
    "    os.system(exe)"
   ]
  },
  {
   "cell_type": "code",
   "execution_count": 3,
   "metadata": {},
   "outputs": [
    {
     "name": "stdout",
     "output_type": "stream",
     "text": [
      "mu_0.05_N_1000\n",
      "mu_0.0_N_1000\n"
     ]
    },
    {
     "name": "stderr",
     "output_type": "stream",
     "text": [
      "C:\\Users\\abhna\\Anaconda2\\lib\\site-packages\\sklearn\\manifold\\spectral_embedding_.py:229: UserWarning: Graph is not fully connected, spectral embedding may not work as expected.\n",
      "  warnings.warn(\"Graph is not fully connected, spectral embedding\"\n"
     ]
    },
    {
     "name": "stdout",
     "output_type": "stream",
     "text": [
      "mu_0.15_N_1000\n",
      "mu_0.1_N_1000\n",
      "mu_0.25_N_1000\n",
      "mu_0.2_N_1000\n",
      "mu_0.35_N_1000\n",
      "mu_0.3_N_1000\n",
      "mu_0.45_N_1000\n",
      "mu_0.4_N_1000\n",
      "mu_0.55_N_1000\n",
      "mu_0.5_N_1000\n",
      "mu_0.65_N_1000\n",
      "mu_0.6_N_1000\n",
      "mu_0.75_N_1000\n",
      "mu_0.7_N_1000\n",
      "mu_0.85_N_1000\n",
      "mu_0.8_N_1000\n",
      "mu_0.95_N_1000\n",
      "mu_0.9_N_1000\n"
     ]
    }
   ],
   "source": [
    "for x in directories :\n",
    "    a = os.listdir(path+x)\n",
    "    print x\n",
    "    for m in a :\n",
    "        if \"network\" in m:\n",
    "            communities = {}\n",
    "            readfile = os.path.abspath(path+x+\"\\\\\"+m)\n",
    "            writefile = os.path.abspath(x+\"\\\\\"+m)\n",
    "            writefile = writefile.replace(\"network\",\"community\")\n",
    "            G = nx.read_edgelist(readfile)\n",
    "            adj = nx.adjacency_matrix(G)\n",
    "            commfile = m.replace(\"network\",\"community\")\n",
    "            rf2 = os.path.abspath(path+x+\"\\\\\"+commfile)\n",
    "            with open(rf2) as handle :\n",
    "                temp = handle.readlines()\n",
    "            number_comm = len(set([a.split()[1] for a in temp])) #Finding the true number of communities\n",
    "            clus = SpectralClustering(n_clusters=number_comm,affinity=\"precomputed\")\n",
    "            out = clus.fit_predict(adj)\n",
    "            graph_nodes = G.nodes()\n",
    "            for d in range(len(graph_nodes)) :\n",
    "                communities[int(graph_nodes[d])] = out[d]\n",
    "            with open(writefile,'wb') as handle :\n",
    "                for nodes in range(1,1001) :\n",
    "                    temp = str(nodes) + \"\\t\" + str(communities[nodes])\n",
    "                    handle.write(temp+\"\\n\")"
   ]
  },
  {
   "cell_type": "code",
   "execution_count": 4,
   "metadata": {
    "collapsed": true
   },
   "outputs": [],
   "source": [
    "urange = [0.05*i for i in range(20)]"
   ]
  },
  {
   "cell_type": "code",
   "execution_count": 5,
   "metadata": {
    "collapsed": true
   },
   "outputs": [],
   "source": [
    "ugraph = []\n",
    "for x in urange:\n",
    "    values = []\n",
    "    truth_comm = \"../../Initial_Test/Generated Graphs/\"\n",
    "    directory = \"mu_\"+str(x)+\"_N_1000/\"\n",
    "    for y in range(1,51):\n",
    "        true_path = truth_comm + directory + \"community_run_\"+str(y)+\".dat\"\n",
    "        with open(true_path) as handle :\n",
    "            temp = handle.readlines()\n",
    "        tc = [a.split()[1] for a in temp]\n",
    "        spectral_path = directory + \"community_run_\"+str(y)+\".dat\"\n",
    "        with open(spectral_path) as handle :\n",
    "            temp = handle.readlines()\n",
    "        lc = [a.split()[1] for a in temp]\n",
    "        val = NMI(tc,lc)\n",
    "        values.append(val)\n",
    "    ugraph.append(sum(values)/50.0)\n",
    "            "
   ]
  },
  {
   "cell_type": "code",
   "execution_count": 6,
   "metadata": {
    "collapsed": true
   },
   "outputs": [],
   "source": [
    "with open(\"spectral_scores.pickle\",'wb') as handle:\n",
    "    pickle.dump(ugraph,handle)"
   ]
  },
  {
   "cell_type": "code",
   "execution_count": 7,
   "metadata": {},
   "outputs": [
    {
     "name": "stdout",
     "output_type": "stream",
     "text": [
      "[0.90359613624765667, 0.94500730699677959, 0.94230126451049356, 0.9325365754334104, 0.92324746508805022, 0.91163172255707592, 0.9103538515204751, 0.9047188218528458, 0.90879324850806953, 0.90089129444165805, 0.90062620508560454, 0.89560007460376057, 0.88258179376605839, 0.84632722399203886, 0.73358644008333418, 0.45503504722621718, 0.32196254545622466, 0.26566108065891086, 0.23516851393701951, 0.21539509120693676]\n"
     ]
    }
   ],
   "source": [
    "print ugraph"
   ]
  },
  {
   "cell_type": "code",
   "execution_count": null,
   "metadata": {
    "collapsed": true
   },
   "outputs": [],
   "source": []
  }
 ],
 "metadata": {
  "kernelspec": {
   "display_name": "Python 2",
   "language": "python",
   "name": "python2"
  },
  "language_info": {
   "codemirror_mode": {
    "name": "ipython",
    "version": 2
   },
   "file_extension": ".py",
   "mimetype": "text/x-python",
   "name": "python",
   "nbconvert_exporter": "python",
   "pygments_lexer": "ipython2",
   "version": "2.7.13"
  }
 },
 "nbformat": 4,
 "nbformat_minor": 2
}
